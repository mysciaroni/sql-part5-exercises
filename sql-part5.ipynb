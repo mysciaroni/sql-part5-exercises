{
    "metadata": {
        "kernelspec": {
            "name": "SQL",
            "display_name": "SQL",
            "language": "sql"
        },
        "language_info": {
            "name": "sql",
            "version": ""
        }
    },
    "nbformat_minor": 2,
    "nbformat": 4,
    "cells": [
        {
            "cell_type": "markdown",
            "source": [
                "# Exercises: Creating, Updating, and Destroying Objects\n",
                "\n",
                "For the exercises, you will be working with objects and data you create. Before opening this notebook, make sure that you have set up the new connection to the server and that you have located the database and your schema.\n",
                "\n",
                "## Object Creation\n",
                "\n",
                "Before coding, think of three things you want to make. These could be coding projects, new recipes, or planned projects for a woodworking hobby. Brainstorm the appropriate column names and data types as well.\n",
                "\n",
                "Create a table under your schema called `planned_makes`."
            ],
            "metadata": {
                "azdata_cell_guid": "9d51c166-0c19-4f27-a422-2a6cf596bfb2"
            },
            "attachments": {}
        },
        {
            "cell_type": "code",
            "source": [
                "CREATE TABLE JunkDB_STL_March2022.maria.planned_makes (\r\n",
                "    project_id INT PRIMARY KEY IDENTITY (1,1),\r\n",
                "    book_ideas VARCHAR(50),\r\n",
                "    travel_plans VARCHAR(50),\r\n",
                "    house_projects VARCHAR(50)\r\n",
                ");\r\n",
                ""
            ],
            "metadata": {
                "azdata_cell_guid": "d9238911-6f81-4f01-980d-b584307effaf",
                "language": "sql",
                "tags": []
            },
            "outputs": [],
            "execution_count": null
        },
        {
            "cell_type": "code",
            "source": [
                "USE JunkDB_STL_March2022\r\n",
                "INSERT INTO maria.planned_makes (book_ideas, travel_plans, house_projects)\r\n",
                "VALUES ('Poetry Book', 'Wisconsin', 'basement stairs'),\r\n",
                "('Fiction Book', 'Colorodo', 'bathtub fitting'), \r\n",
                "('How-To Book', 'Alaska', 'bathroom window');\r\n",
                "\r\n",
                "DELETE FROM maria.planned_makes\r\n",
                "WHERE project_id > 3\r\n",
                "SELECT *\r\n",
                "FROM maria.planned_makes"
            ],
            "metadata": {
                "azdata_cell_guid": "550e41e0-4ca0-4a9f-815e-b6ab71ea3049",
                "language": "sql",
                "tags": []
            },
            "outputs": [
                {
                    "output_type": "display_data",
                    "data": {
                        "text/html": "(3 rows affected)"
                    },
                    "metadata": {}
                },
                {
                    "output_type": "display_data",
                    "data": {
                        "text/html": "(6 rows affected)"
                    },
                    "metadata": {}
                },
                {
                    "output_type": "display_data",
                    "data": {
                        "text/html": "(3 rows affected)"
                    },
                    "metadata": {}
                },
                {
                    "output_type": "display_data",
                    "data": {
                        "text/html": "Total execution time: 00:00:00.072"
                    },
                    "metadata": {}
                },
                {
                    "output_type": "execute_result",
                    "metadata": {},
                    "execution_count": 26,
                    "data": {
                        "application/vnd.dataresource+json": {
                            "schema": {
                                "fields": [
                                    {
                                        "name": "project_id"
                                    },
                                    {
                                        "name": "book_ideas"
                                    },
                                    {
                                        "name": "travel_plans"
                                    },
                                    {
                                        "name": "house_projects"
                                    }
                                ]
                            },
                            "data": [
                                {
                                    "0": "1",
                                    "1": "Poetry Book",
                                    "2": "Wisconsin",
                                    "3": "basement stairs"
                                },
                                {
                                    "0": "2",
                                    "1": "Fiction Book",
                                    "2": "Colorodo",
                                    "3": "bathtub fitting"
                                },
                                {
                                    "0": "3",
                                    "1": "How-To Book",
                                    "2": "Alaska",
                                    "3": "bathroom window"
                                }
                            ]
                        },
                        "text/html": [
                            "<table>",
                            "<tr><th>project_id</th><th>book_ideas</th><th>travel_plans</th><th>house_projects</th></tr>",
                            "<tr><td>1</td><td>Poetry Book</td><td>Wisconsin</td><td>basement stairs</td></tr>",
                            "<tr><td>2</td><td>Fiction Book</td><td>Colorodo</td><td>bathtub fitting</td></tr>",
                            "<tr><td>3</td><td>How-To Book</td><td>Alaska</td><td>bathroom window</td></tr>",
                            "</table>"
                        ]
                    }
                }
            ],
            "execution_count": 26
        },
        {
            "cell_type": "markdown",
            "source": [
                "Add three rows to your table that are your planned makes."
            ],
            "metadata": {
                "azdata_cell_guid": "83cdf34d-8c4f-4fa1-a14e-77384b19d734"
            }
        },
        {
            "cell_type": "markdown",
            "source": [
                "## Update a Row\n",
                "\n",
                "Change different values in one of your three rows."
            ],
            "metadata": {
                "azdata_cell_guid": "4a39b8d4-ae97-4e09-8336-c5fc6a00d76c"
            },
            "attachments": {}
        },
        {
            "cell_type": "code",
            "source": [
                "USE JunkDB_STL_March2022\r\n",
                "UPDATE maria.planned_makes\r\n",
                "SET house_projects = 'shade on front porch'\r\n",
                "WHERE house_projects = 'bathtub fitting'\r\n",
                "SELECT *\r\n",
                "FROM maria.planned_makes"
            ],
            "metadata": {
                "azdata_cell_guid": "7409c695-9581-4ad8-b03a-574d2c4c87cb",
                "language": "sql",
                "tags": []
            },
            "outputs": [
                {
                    "output_type": "display_data",
                    "data": {
                        "text/html": "(1 row affected)"
                    },
                    "metadata": {}
                },
                {
                    "output_type": "display_data",
                    "data": {
                        "text/html": "(3 rows affected)"
                    },
                    "metadata": {}
                },
                {
                    "output_type": "display_data",
                    "data": {
                        "text/html": "Total execution time: 00:00:00.052"
                    },
                    "metadata": {}
                },
                {
                    "output_type": "execute_result",
                    "metadata": {},
                    "execution_count": 28,
                    "data": {
                        "application/vnd.dataresource+json": {
                            "schema": {
                                "fields": [
                                    {
                                        "name": "project_id"
                                    },
                                    {
                                        "name": "book_ideas"
                                    },
                                    {
                                        "name": "travel_plans"
                                    },
                                    {
                                        "name": "house_projects"
                                    }
                                ]
                            },
                            "data": [
                                {
                                    "0": "1",
                                    "1": "Poetry Book",
                                    "2": "Wisconsin",
                                    "3": "basement stairs"
                                },
                                {
                                    "0": "2",
                                    "1": "Fiction Book",
                                    "2": "Colorodo",
                                    "3": "shade on front porch"
                                },
                                {
                                    "0": "3",
                                    "1": "How-To Book",
                                    "2": "Alaska",
                                    "3": "bathroom window"
                                }
                            ]
                        },
                        "text/html": [
                            "<table>",
                            "<tr><th>project_id</th><th>book_ideas</th><th>travel_plans</th><th>house_projects</th></tr>",
                            "<tr><td>1</td><td>Poetry Book</td><td>Wisconsin</td><td>basement stairs</td></tr>",
                            "<tr><td>2</td><td>Fiction Book</td><td>Colorodo</td><td>shade on front porch</td></tr>",
                            "<tr><td>3</td><td>How-To Book</td><td>Alaska</td><td>bathroom window</td></tr>",
                            "</table>"
                        ]
                    }
                }
            ],
            "execution_count": 28
        },
        {
            "cell_type": "markdown",
            "source": [
                "## Delete a Row\n",
                "\n",
                "Delete one of the rows from your table."
            ],
            "metadata": {
                "azdata_cell_guid": "95e91a6e-9038-42d9-9401-5738842aba17"
            }
        },
        {
            "cell_type": "code",
            "source": [
                "DELETE FROM maria.planned_makes\r\n",
                "WHERE project_id = 3\r\n",
                "SELECT *\r\n",
                "FROM maria.planned_makes"
            ],
            "metadata": {
                "azdata_cell_guid": "749c748f-19b5-4c69-9004-b6b20216616a",
                "language": "sql",
                "tags": []
            },
            "outputs": [
                {
                    "output_type": "display_data",
                    "data": {
                        "text/html": "(1 row affected)"
                    },
                    "metadata": {}
                },
                {
                    "output_type": "display_data",
                    "data": {
                        "text/html": "(2 rows affected)"
                    },
                    "metadata": {}
                },
                {
                    "output_type": "display_data",
                    "data": {
                        "text/html": "Total execution time: 00:00:00.051"
                    },
                    "metadata": {}
                },
                {
                    "output_type": "execute_result",
                    "metadata": {},
                    "execution_count": 29,
                    "data": {
                        "application/vnd.dataresource+json": {
                            "schema": {
                                "fields": [
                                    {
                                        "name": "project_id"
                                    },
                                    {
                                        "name": "book_ideas"
                                    },
                                    {
                                        "name": "travel_plans"
                                    },
                                    {
                                        "name": "house_projects"
                                    }
                                ]
                            },
                            "data": [
                                {
                                    "0": "1",
                                    "1": "Poetry Book",
                                    "2": "Wisconsin",
                                    "3": "basement stairs"
                                },
                                {
                                    "0": "2",
                                    "1": "Fiction Book",
                                    "2": "Colorodo",
                                    "3": "shade on front porch"
                                }
                            ]
                        },
                        "text/html": [
                            "<table>",
                            "<tr><th>project_id</th><th>book_ideas</th><th>travel_plans</th><th>house_projects</th></tr>",
                            "<tr><td>1</td><td>Poetry Book</td><td>Wisconsin</td><td>basement stairs</td></tr>",
                            "<tr><td>2</td><td>Fiction Book</td><td>Colorodo</td><td>shade on front porch</td></tr>",
                            "</table>"
                        ]
                    }
                }
            ],
            "execution_count": 29
        },
        {
            "cell_type": "markdown",
            "source": [
                "## Drop the Table\n",
                "\n",
                "While this has been fun, it is time to drop the table!"
            ],
            "metadata": {
                "azdata_cell_guid": "2239cb09-137b-4579-905b-1aa020793181"
            },
            "attachments": {}
        },
        {
            "cell_type": "code",
            "source": [
                "DROP TABLE maria.planned_makes"
            ],
            "metadata": {
                "azdata_cell_guid": "b3c7f6ea-ee26-46b3-9c2a-2f7a82c39699",
                "language": "sql",
                "tags": []
            },
            "outputs": [
                {
                    "output_type": "display_data",
                    "data": {
                        "text/html": "Commands completed successfully."
                    },
                    "metadata": {}
                },
                {
                    "output_type": "display_data",
                    "data": {
                        "text/html": "Total execution time: 00:00:00.034"
                    },
                    "metadata": {}
                }
            ],
            "execution_count": 30
        }
    ]
}